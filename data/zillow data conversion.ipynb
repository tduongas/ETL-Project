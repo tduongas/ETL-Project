{
 "cells": [
  {
   "cell_type": "code",
   "execution_count": 84,
   "metadata": {},
   "outputs": [],
   "source": [
    "# Import libraries\n",
    "import pandas as pd"
   ]
  },
  {
   "cell_type": "code",
   "execution_count": 85,
   "metadata": {},
   "outputs": [],
   "source": [
    "# Import csv file\n",
    "single_family_housing = \"data/Zip_Zhvi_SingleFamilyResidence.csv\"\n",
    "\n",
    "# Create dataframe from csv\n",
    "sfh_df = pd.read_csv(single_family_housing)"
   ]
  },
  {
   "cell_type": "code",
   "execution_count": 86,
   "metadata": {},
   "outputs": [],
   "source": [
    "# Rename \"RegionName\" column to \"Zip Code\"\n",
    "sfh_df.rename(columns={\"RegionName\":\"Zip Code\"}, inplace=True)\n",
    "\n",
    "# Drop useless columns\n",
    "clean_sfh_df = sfh_df.drop(columns=[\"RegionID\", \"SizeRank\"])"
   ]
  },
  {
   "cell_type": "code",
   "execution_count": 87,
   "metadata": {},
   "outputs": [],
   "source": [
    "# Pull out the Florida housing prices only\n",
    "fl_sfh_df = clean_sfh_df.loc[sfh_df[\"State\"] == \"FL\"]"
   ]
  },
  {
   "cell_type": "code",
   "execution_count": 88,
   "metadata": {},
   "outputs": [],
   "source": [
    "fl_sfh_df.to_csv(\"data/florida_zhi_value.csv\")"
   ]
  }
 ],
 "metadata": {
  "language_info": {
   "codemirror_mode": {
    "name": "ipython",
    "version": 3
   },
   "file_extension": ".py",
   "mimetype": "text/x-python",
   "name": "python",
   "nbconvert_exporter": "python",
   "pygments_lexer": "ipython3",
   "version": "3.7.7-final"
  },
  "orig_nbformat": 2,
  "kernelspec": {
   "name": "python3",
   "display_name": "Python 3"
  }
 },
 "nbformat": 4,
 "nbformat_minor": 2
}