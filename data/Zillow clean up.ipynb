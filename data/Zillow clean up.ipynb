{
 "cells": [
  {
   "cell_type": "code",
   "execution_count": 14,
   "metadata": {},
   "outputs": [],
   "source": [
    "# Import libraries\n",
    "import pandas as pd\n",
    "from sqlalchemy import create_engine"
   ]
  },
  {
   "cell_type": "code",
   "execution_count": 15,
   "metadata": {},
   "outputs": [
    {
     "output_type": "execute_result",
     "data": {
      "text/plain": "   zip_code               city state                                  metro  \\\n0     32162       The Villages    FL                           The Villages   \n1     33160  Sunny Isles Beach    FL  Miami-Fort Lauderdale-West Palm Beach   \n2     34787      Winter Garden    FL              Orlando-Kissimmee-Sanford   \n3     33411   Royal Palm Beach    FL  Miami-Fort Lauderdale-West Palm Beach   \n4     33025            Miramar    FL  Miami-Fort Lauderdale-West Palm Beach   \n\n              county   2017-01   2017-02   2017-03   2017-04   2017-05  \\\n0      Sumter County  251016.0  251302.0  252109.0  253407.0  253594.0   \n1  Miami-Dade County  931701.0  929177.0  924739.0  919894.0  917517.0   \n2      Orange County  301134.0  302905.0  304677.0  306201.0  306948.0   \n3  Palm Beach County  300033.0  301948.0  303285.0  304672.0  305836.0   \n4     Broward County  271593.0  272940.0  274246.0  276996.0  278502.0   \n\n    2017-06   2017-07   2017-08   2017-09   2017-10  2017-11  2017-12  \\\n0  253418.0  253282.0  253486.0  253995.0  254522.0   255039   255790   \n1  915806.0  915362.0  914302.0  912552.0  912687.0   910695   911996   \n2  308755.0  309887.0  311189.0  312883.0  314094.0   315892   317213   \n3  307211.0  308614.0  310531.0  313126.0  315361.0   316613   317079   \n4  279607.0  280771.0  282854.0  285128.0  286760.0   288063   289577   \n\n   2017_zhvi_avg  2017_zhvi_max  2017_zhvi_min  \n0    253413.3333         255790         251016  \n1    918035.6667         931701         910695  \n2    309314.8333         317213         301134  \n3    308692.4167         317079         300033  \n4    280586.4167         289577         271593  ",
      "text/html": "<div>\n<style scoped>\n    .dataframe tbody tr th:only-of-type {\n        vertical-align: middle;\n    }\n\n    .dataframe tbody tr th {\n        vertical-align: top;\n    }\n\n    .dataframe thead th {\n        text-align: right;\n    }\n</style>\n<table border=\"1\" class=\"dataframe\">\n  <thead>\n    <tr style=\"text-align: right;\">\n      <th></th>\n      <th>zip_code</th>\n      <th>city</th>\n      <th>state</th>\n      <th>metro</th>\n      <th>county</th>\n      <th>2017-01</th>\n      <th>2017-02</th>\n      <th>2017-03</th>\n      <th>2017-04</th>\n      <th>2017-05</th>\n      <th>2017-06</th>\n      <th>2017-07</th>\n      <th>2017-08</th>\n      <th>2017-09</th>\n      <th>2017-10</th>\n      <th>2017-11</th>\n      <th>2017-12</th>\n      <th>2017_zhvi_avg</th>\n      <th>2017_zhvi_max</th>\n      <th>2017_zhvi_min</th>\n    </tr>\n  </thead>\n  <tbody>\n    <tr>\n      <th>0</th>\n      <td>32162</td>\n      <td>The Villages</td>\n      <td>FL</td>\n      <td>The Villages</td>\n      <td>Sumter County</td>\n      <td>251016.0</td>\n      <td>251302.0</td>\n      <td>252109.0</td>\n      <td>253407.0</td>\n      <td>253594.0</td>\n      <td>253418.0</td>\n      <td>253282.0</td>\n      <td>253486.0</td>\n      <td>253995.0</td>\n      <td>254522.0</td>\n      <td>255039</td>\n      <td>255790</td>\n      <td>253413.3333</td>\n      <td>255790</td>\n      <td>251016</td>\n    </tr>\n    <tr>\n      <th>1</th>\n      <td>33160</td>\n      <td>Sunny Isles Beach</td>\n      <td>FL</td>\n      <td>Miami-Fort Lauderdale-West Palm Beach</td>\n      <td>Miami-Dade County</td>\n      <td>931701.0</td>\n      <td>929177.0</td>\n      <td>924739.0</td>\n      <td>919894.0</td>\n      <td>917517.0</td>\n      <td>915806.0</td>\n      <td>915362.0</td>\n      <td>914302.0</td>\n      <td>912552.0</td>\n      <td>912687.0</td>\n      <td>910695</td>\n      <td>911996</td>\n      <td>918035.6667</td>\n      <td>931701</td>\n      <td>910695</td>\n    </tr>\n    <tr>\n      <th>2</th>\n      <td>34787</td>\n      <td>Winter Garden</td>\n      <td>FL</td>\n      <td>Orlando-Kissimmee-Sanford</td>\n      <td>Orange County</td>\n      <td>301134.0</td>\n      <td>302905.0</td>\n      <td>304677.0</td>\n      <td>306201.0</td>\n      <td>306948.0</td>\n      <td>308755.0</td>\n      <td>309887.0</td>\n      <td>311189.0</td>\n      <td>312883.0</td>\n      <td>314094.0</td>\n      <td>315892</td>\n      <td>317213</td>\n      <td>309314.8333</td>\n      <td>317213</td>\n      <td>301134</td>\n    </tr>\n    <tr>\n      <th>3</th>\n      <td>33411</td>\n      <td>Royal Palm Beach</td>\n      <td>FL</td>\n      <td>Miami-Fort Lauderdale-West Palm Beach</td>\n      <td>Palm Beach County</td>\n      <td>300033.0</td>\n      <td>301948.0</td>\n      <td>303285.0</td>\n      <td>304672.0</td>\n      <td>305836.0</td>\n      <td>307211.0</td>\n      <td>308614.0</td>\n      <td>310531.0</td>\n      <td>313126.0</td>\n      <td>315361.0</td>\n      <td>316613</td>\n      <td>317079</td>\n      <td>308692.4167</td>\n      <td>317079</td>\n      <td>300033</td>\n    </tr>\n    <tr>\n      <th>4</th>\n      <td>33025</td>\n      <td>Miramar</td>\n      <td>FL</td>\n      <td>Miami-Fort Lauderdale-West Palm Beach</td>\n      <td>Broward County</td>\n      <td>271593.0</td>\n      <td>272940.0</td>\n      <td>274246.0</td>\n      <td>276996.0</td>\n      <td>278502.0</td>\n      <td>279607.0</td>\n      <td>280771.0</td>\n      <td>282854.0</td>\n      <td>285128.0</td>\n      <td>286760.0</td>\n      <td>288063</td>\n      <td>289577</td>\n      <td>280586.4167</td>\n      <td>289577</td>\n      <td>271593</td>\n    </tr>\n  </tbody>\n</table>\n</div>"
     },
     "metadata": {},
     "execution_count": 15
    }
   ],
   "source": [
    "# Import csv file\n",
    "single_family_housing = \"florida_zhi_value.csv\"\n",
    "\n",
    "# Create dataframe from csv\n",
    "sfh_df = pd.read_csv(single_family_housing)\n",
    "sfh_df.head()"
   ]
  },
  {
   "cell_type": "code",
   "execution_count": 16,
   "metadata": {},
   "outputs": [],
   "source": [
    "rds_connection_string = \"postgres:chubby@localhost:5432/ETL Project\"\n",
    "engine = create_engine(f'postgresql://{rds_connection_string}')"
   ]
  },
  {
   "cell_type": "code",
   "execution_count": 17,
   "metadata": {},
   "outputs": [],
   "source": [
    "sfh_df.to_sql(name='zillow_house_value_index', con=engine, if_exists='append', index=False)"
   ]
  }
 ],
 "metadata": {
  "language_info": {
   "codemirror_mode": {
    "name": "ipython",
    "version": 3
   },
   "file_extension": ".py",
   "mimetype": "text/x-python",
   "name": "python",
   "nbconvert_exporter": "python",
   "pygments_lexer": "ipython3",
   "version": "3.7.7-final"
  },
  "orig_nbformat": 2,
  "kernelspec": {
   "name": "python3",
   "display_name": "Python 3"
  }
 },
 "nbformat": 4,
 "nbformat_minor": 2
}