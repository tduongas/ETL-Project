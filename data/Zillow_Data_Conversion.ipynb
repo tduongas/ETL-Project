{
 "cells": [
  {
   "cell_type": "code",
   "execution_count": 53,
   "metadata": {},
   "outputs": [],
   "source": [
    "# Import libraries\n",
    "import pandas as pd"
   ]
  },
  {
   "cell_type": "code",
   "execution_count": 54,
   "metadata": {},
   "outputs": [
    {
     "output_type": "execute_result",
     "data": {
      "text/plain": "   RegionID  RegionName      City State                             Metro  \\\n0     61639       10025  New York    NY       New York-Newark-Jersey City   \n1     84654       60657   Chicago    IL          Chicago-Naperville-Elgin   \n2     61637       10023  New York    NY       New York-Newark-Jersey City   \n3     91982       77494      Katy    TX  Houston-The Woodlands-Sugar Land   \n4     84616       60614   Chicago    IL          Chicago-Naperville-Elgin   \n\n        CountyName  SizeRank    2009-01    2009-02    2009-03  ...  2019-05  \\\n0  New York County         1  1553689.0  1526876.0  1518443.0  ...  1365272   \n1      Cook County         2   808608.0   800968.0   791874.0  ...   967517   \n2  New York County         3        NaN        NaN        NaN  ...  1506127   \n3    Harris County         4   258171.0   258591.0   259182.0  ...   335155   \n4      Cook County         5  1111184.0  1097752.0  1087805.0  ...  1201189   \n\n   2019-06  2019-07  2019-08  2019-09  2019-10  2019-11  2019-12  2020-01  \\\n0  1364535  1357186  1354644  1343961  1336894  1333066  1334392  1343701   \n1   966429   967322   967450   967003   966057   965021   963959   964246   \n2  1494778  1481698  1470185  1461983  1457776  1454757  1454081  1460325   \n3   335051   335418   335480   335596   335547   335395   335309   334819   \n4  1200418  1201438  1201133  1199177  1197266  1194983  1193391  1193661   \n\n   2020-02  \n0  1351552  \n1   966092  \n2  1465530  \n3   334762  \n4  1196524  \n\n[5 rows x 141 columns]",
      "text/html": "<div>\n<style scoped>\n    .dataframe tbody tr th:only-of-type {\n        vertical-align: middle;\n    }\n\n    .dataframe tbody tr th {\n        vertical-align: top;\n    }\n\n    .dataframe thead th {\n        text-align: right;\n    }\n</style>\n<table border=\"1\" class=\"dataframe\">\n  <thead>\n    <tr style=\"text-align: right;\">\n      <th></th>\n      <th>RegionID</th>\n      <th>RegionName</th>\n      <th>City</th>\n      <th>State</th>\n      <th>Metro</th>\n      <th>CountyName</th>\n      <th>SizeRank</th>\n      <th>2009-01</th>\n      <th>2009-02</th>\n      <th>2009-03</th>\n      <th>...</th>\n      <th>2019-05</th>\n      <th>2019-06</th>\n      <th>2019-07</th>\n      <th>2019-08</th>\n      <th>2019-09</th>\n      <th>2019-10</th>\n      <th>2019-11</th>\n      <th>2019-12</th>\n      <th>2020-01</th>\n      <th>2020-02</th>\n    </tr>\n  </thead>\n  <tbody>\n    <tr>\n      <th>0</th>\n      <td>61639</td>\n      <td>10025</td>\n      <td>New York</td>\n      <td>NY</td>\n      <td>New York-Newark-Jersey City</td>\n      <td>New York County</td>\n      <td>1</td>\n      <td>1553689.0</td>\n      <td>1526876.0</td>\n      <td>1518443.0</td>\n      <td>...</td>\n      <td>1365272</td>\n      <td>1364535</td>\n      <td>1357186</td>\n      <td>1354644</td>\n      <td>1343961</td>\n      <td>1336894</td>\n      <td>1333066</td>\n      <td>1334392</td>\n      <td>1343701</td>\n      <td>1351552</td>\n    </tr>\n    <tr>\n      <th>1</th>\n      <td>84654</td>\n      <td>60657</td>\n      <td>Chicago</td>\n      <td>IL</td>\n      <td>Chicago-Naperville-Elgin</td>\n      <td>Cook County</td>\n      <td>2</td>\n      <td>808608.0</td>\n      <td>800968.0</td>\n      <td>791874.0</td>\n      <td>...</td>\n      <td>967517</td>\n      <td>966429</td>\n      <td>967322</td>\n      <td>967450</td>\n      <td>967003</td>\n      <td>966057</td>\n      <td>965021</td>\n      <td>963959</td>\n      <td>964246</td>\n      <td>966092</td>\n    </tr>\n    <tr>\n      <th>2</th>\n      <td>61637</td>\n      <td>10023</td>\n      <td>New York</td>\n      <td>NY</td>\n      <td>New York-Newark-Jersey City</td>\n      <td>New York County</td>\n      <td>3</td>\n      <td>NaN</td>\n      <td>NaN</td>\n      <td>NaN</td>\n      <td>...</td>\n      <td>1506127</td>\n      <td>1494778</td>\n      <td>1481698</td>\n      <td>1470185</td>\n      <td>1461983</td>\n      <td>1457776</td>\n      <td>1454757</td>\n      <td>1454081</td>\n      <td>1460325</td>\n      <td>1465530</td>\n    </tr>\n    <tr>\n      <th>3</th>\n      <td>91982</td>\n      <td>77494</td>\n      <td>Katy</td>\n      <td>TX</td>\n      <td>Houston-The Woodlands-Sugar Land</td>\n      <td>Harris County</td>\n      <td>4</td>\n      <td>258171.0</td>\n      <td>258591.0</td>\n      <td>259182.0</td>\n      <td>...</td>\n      <td>335155</td>\n      <td>335051</td>\n      <td>335418</td>\n      <td>335480</td>\n      <td>335596</td>\n      <td>335547</td>\n      <td>335395</td>\n      <td>335309</td>\n      <td>334819</td>\n      <td>334762</td>\n    </tr>\n    <tr>\n      <th>4</th>\n      <td>84616</td>\n      <td>60614</td>\n      <td>Chicago</td>\n      <td>IL</td>\n      <td>Chicago-Naperville-Elgin</td>\n      <td>Cook County</td>\n      <td>5</td>\n      <td>1111184.0</td>\n      <td>1097752.0</td>\n      <td>1087805.0</td>\n      <td>...</td>\n      <td>1201189</td>\n      <td>1200418</td>\n      <td>1201438</td>\n      <td>1201133</td>\n      <td>1199177</td>\n      <td>1197266</td>\n      <td>1194983</td>\n      <td>1193391</td>\n      <td>1193661</td>\n      <td>1196524</td>\n    </tr>\n  </tbody>\n</table>\n<p>5 rows × 141 columns</p>\n</div>"
     },
     "metadata": {},
     "execution_count": 54
    }
   ],
   "source": [
    "# Import csv file\n",
    "single_family_housing = \"Zip_Zhvi_SingleFamilyResidence.csv\"\n",
    "\n",
    "# Create dataframe from csv\n",
    "sfh_df = pd.read_csv(single_family_housing)\n",
    "sfh_df.head()"
   ]
  },
  {
   "cell_type": "code",
   "execution_count": 55,
   "metadata": {},
   "outputs": [
    {
     "output_type": "execute_result",
     "data": {
      "text/plain": "   RegionID  Zip Code      City State                             Metro  \\\n0     61639     10025  New York    NY       New York-Newark-Jersey City   \n1     84654     60657   Chicago    IL          Chicago-Naperville-Elgin   \n2     61637     10023  New York    NY       New York-Newark-Jersey City   \n3     91982     77494      Katy    TX  Houston-The Woodlands-Sugar Land   \n4     84616     60614   Chicago    IL          Chicago-Naperville-Elgin   \n\n        CountyName  SizeRank    2017-01    2017-02    2017-03    2017-04  \\\n0  New York County         1  1476509.0  1476630.0  1479410.0  1478879.0   \n1      Cook County         2   948850.0   943920.0   947429.0   950081.0   \n2  New York County         3  1630033.0  1608263.0  1591918.0  1583357.0   \n3    Harris County         4   329980.0   330687.0   331548.0   331712.0   \n4      Cook County         5  1170197.0  1168909.0  1176444.0  1182024.0   \n\n     2017-05    2017-06    2017-07    2017-08    2017-09    2017-10  \\\n0  1481672.0  1476174.0  1482127.0  1483230.0  1494017.0  1486270.0   \n1   951676.0   950563.0   948773.0   950302.0   953132.0   952897.0   \n2  1581908.0  1579167.0  1581337.0  1585707.0  1589950.0  1579912.0   \n3   330742.0   330434.0   330664.0   330748.0   330532.0   330509.0   \n4  1186085.0  1186644.0  1184674.0  1186064.0  1190520.0  1193080.0   \n\n     2017-11    2017-12  \n0  1479032.0  1461584.0  \n1   950087.0   950589.0  \n2  1568794.0  1554248.0  \n3   330513.0   331409.0  \n4  1193256.0  1196558.0  ",
      "text/html": "<div>\n<style scoped>\n    .dataframe tbody tr th:only-of-type {\n        vertical-align: middle;\n    }\n\n    .dataframe tbody tr th {\n        vertical-align: top;\n    }\n\n    .dataframe thead th {\n        text-align: right;\n    }\n</style>\n<table border=\"1\" class=\"dataframe\">\n  <thead>\n    <tr style=\"text-align: right;\">\n      <th></th>\n      <th>RegionID</th>\n      <th>Zip Code</th>\n      <th>City</th>\n      <th>State</th>\n      <th>Metro</th>\n      <th>CountyName</th>\n      <th>SizeRank</th>\n      <th>2017-01</th>\n      <th>2017-02</th>\n      <th>2017-03</th>\n      <th>2017-04</th>\n      <th>2017-05</th>\n      <th>2017-06</th>\n      <th>2017-07</th>\n      <th>2017-08</th>\n      <th>2017-09</th>\n      <th>2017-10</th>\n      <th>2017-11</th>\n      <th>2017-12</th>\n    </tr>\n  </thead>\n  <tbody>\n    <tr>\n      <th>0</th>\n      <td>61639</td>\n      <td>10025</td>\n      <td>New York</td>\n      <td>NY</td>\n      <td>New York-Newark-Jersey City</td>\n      <td>New York County</td>\n      <td>1</td>\n      <td>1476509.0</td>\n      <td>1476630.0</td>\n      <td>1479410.0</td>\n      <td>1478879.0</td>\n      <td>1481672.0</td>\n      <td>1476174.0</td>\n      <td>1482127.0</td>\n      <td>1483230.0</td>\n      <td>1494017.0</td>\n      <td>1486270.0</td>\n      <td>1479032.0</td>\n      <td>1461584.0</td>\n    </tr>\n    <tr>\n      <th>1</th>\n      <td>84654</td>\n      <td>60657</td>\n      <td>Chicago</td>\n      <td>IL</td>\n      <td>Chicago-Naperville-Elgin</td>\n      <td>Cook County</td>\n      <td>2</td>\n      <td>948850.0</td>\n      <td>943920.0</td>\n      <td>947429.0</td>\n      <td>950081.0</td>\n      <td>951676.0</td>\n      <td>950563.0</td>\n      <td>948773.0</td>\n      <td>950302.0</td>\n      <td>953132.0</td>\n      <td>952897.0</td>\n      <td>950087.0</td>\n      <td>950589.0</td>\n    </tr>\n    <tr>\n      <th>2</th>\n      <td>61637</td>\n      <td>10023</td>\n      <td>New York</td>\n      <td>NY</td>\n      <td>New York-Newark-Jersey City</td>\n      <td>New York County</td>\n      <td>3</td>\n      <td>1630033.0</td>\n      <td>1608263.0</td>\n      <td>1591918.0</td>\n      <td>1583357.0</td>\n      <td>1581908.0</td>\n      <td>1579167.0</td>\n      <td>1581337.0</td>\n      <td>1585707.0</td>\n      <td>1589950.0</td>\n      <td>1579912.0</td>\n      <td>1568794.0</td>\n      <td>1554248.0</td>\n    </tr>\n    <tr>\n      <th>3</th>\n      <td>91982</td>\n      <td>77494</td>\n      <td>Katy</td>\n      <td>TX</td>\n      <td>Houston-The Woodlands-Sugar Land</td>\n      <td>Harris County</td>\n      <td>4</td>\n      <td>329980.0</td>\n      <td>330687.0</td>\n      <td>331548.0</td>\n      <td>331712.0</td>\n      <td>330742.0</td>\n      <td>330434.0</td>\n      <td>330664.0</td>\n      <td>330748.0</td>\n      <td>330532.0</td>\n      <td>330509.0</td>\n      <td>330513.0</td>\n      <td>331409.0</td>\n    </tr>\n    <tr>\n      <th>4</th>\n      <td>84616</td>\n      <td>60614</td>\n      <td>Chicago</td>\n      <td>IL</td>\n      <td>Chicago-Naperville-Elgin</td>\n      <td>Cook County</td>\n      <td>5</td>\n      <td>1170197.0</td>\n      <td>1168909.0</td>\n      <td>1176444.0</td>\n      <td>1182024.0</td>\n      <td>1186085.0</td>\n      <td>1186644.0</td>\n      <td>1184674.0</td>\n      <td>1186064.0</td>\n      <td>1190520.0</td>\n      <td>1193080.0</td>\n      <td>1193256.0</td>\n      <td>1196558.0</td>\n    </tr>\n  </tbody>\n</table>\n</div>"
     },
     "metadata": {},
     "execution_count": 55
    }
   ],
   "source": [
    "# Rename \"RegionName\" column to \"Zip Code\"\n",
    "sfh_df.rename(columns={\"RegionName\":\"Zip Code\"}, inplace=True)\n",
    "\n",
    "# Drop useless columns\n",
    "clean_df_1 = sfh_df.drop(sfh_df.iloc[:, 7:103], axis=1)\n",
    "clean_df_2 = clean_df_1.drop(clean_df_1.iloc[:, 19:60], axis=1)\n",
    "clean_df_2.head()"
   ]
  },
  {
   "cell_type": "code",
   "execution_count": 56,
   "metadata": {},
   "outputs": [],
   "source": [
    "# Pull out the Florida housing prices only\n",
    "fl_sfh_df = clean_df_2.loc[sfh_df[\"State\"] == \"FL\"]\n",
    "fl_sfh_df.head()"
   ]
  },
  {
   "cell_type": "code",
   "execution_count": 57,
   "metadata": {},
   "outputs": [],
   "source": [
    "# Save dataframe to new csv file\n",
    "fl_sfh_df.to_csv(\"florida_zhi_value.csv\")"
   ]
  }
 ],
 "metadata": {
  "language_info": {
   "codemirror_mode": {
    "name": "ipython",
    "version": 3
   },
   "file_extension": ".py",
   "mimetype": "text/x-python",
   "name": "python",
   "nbconvert_exporter": "python",
   "pygments_lexer": "ipython3",
   "version": "3.7.7-final"
  },
  "orig_nbformat": 2,
  "kernelspec": {
   "name": "python3",
   "display_name": "Python 3"
  }
 },
 "nbformat": 4,
 "nbformat_minor": 2
}